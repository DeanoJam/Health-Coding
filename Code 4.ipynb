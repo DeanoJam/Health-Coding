{
 "cells": [
  {
   "cell_type": "code",
   "execution_count": 3,
   "id": "2ecc5a73-5e1c-4890-b9e2-4e7cb1a9f5c7",
   "metadata": {},
   "outputs": [
    {
     "name": "stdout",
     "output_type": "stream",
     "text": [
      "Choose the conversion direction.\n",
      "Put C for Celsius to fahrenheit or F for Fahrenheit to Celsius\n"
     ]
    },
    {
     "name": "stdin",
     "output_type": "stream",
     "text": [
      "Enter your choice  c\n",
      "Enter the temperature:  38\n"
     ]
    },
    {
     "name": "stdout",
     "output_type": "stream",
     "text": [
      "38.0 degrees Celsius is 100.4 degrees Fahrenheit\n"
     ]
    }
   ],
   "source": [
    "# Celsius to Fahrenheit\n",
    "def Celsius_to_Fahrenheit(Celsius):\n",
    "    return (Celsius * 9/5) + 32\n",
    "\n",
    "# Fahrenheit to Celsius\n",
    "def Fahrenheit_to_Celsius(Fahrenheit):\n",
    "    return (Fahrenheit - 32) * 5/9\n",
    "\n",
    "# setting dictionary to mapping the user input to the function\n",
    "conversion_features = {\n",
    "    'c': Celsius_to_Fahrenheit,\n",
    "    'f': Fahrenheit_to_Celsius\n",
    "}\n",
    "\n",
    "print(\"Choose the conversion direction.\")\n",
    "print(\"Put C for Celsius to fahrenheit or F for Fahrenheit to Celsius\")\n",
    "\n",
    "choice = input(\"Enter your choice \")\n",
    "\n",
    "if choice in conversion_features:\n",
    "    temperature = float(input(\"Enter the temperature: \"))\n",
    "\n",
    "    # Conversion\n",
    "    converted_temperature = conversion_features[choice](temperature)\n",
    "\n",
    "    print(f\"{temperature} degrees {'Celsius' if choice == 'c' else 'Fahrenheit'} is {converted_temperature} degrees {'Fahrenheit' if choice == 'c' else 'Celsuis'}\")\n",
    "\n",
    "else:\n",
    "    print(\"This was not a valid input. Please enter a C or a F.\")"
   ]
  },
  {
   "cell_type": "code",
   "execution_count": null,
   "id": "8e08b20f-0f05-45b6-8ccf-b97f6bf51636",
   "metadata": {},
   "outputs": [],
   "source": []
  }
 ],
 "metadata": {
  "kernelspec": {
   "display_name": "Python 3 (ipykernel)",
   "language": "python",
   "name": "python3"
  },
  "language_info": {
   "codemirror_mode": {
    "name": "ipython",
    "version": 3
   },
   "file_extension": ".py",
   "mimetype": "text/x-python",
   "name": "python",
   "nbconvert_exporter": "python",
   "pygments_lexer": "ipython3",
   "version": "3.11.5"
  }
 },
 "nbformat": 4,
 "nbformat_minor": 5
}
