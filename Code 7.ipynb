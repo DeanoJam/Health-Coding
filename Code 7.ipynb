{
 "cells": [
  {
   "cell_type": "code",
   "execution_count": 37,
   "id": "9335067e-be59-4923-a658-6b19b0e7132c",
   "metadata": {},
   "outputs": [],
   "source": [
    "#\n",
    "data_points = [\n",
    "\n",
    "    (2000, 72.5),\n",
    "\n",
    "    (2001, 73.1),\n",
    "\n",
    "    (2002, 73.8),\n",
    "\n",
    "    (2003, 74.2),\n",
    "\n",
    "    (2004, 74.7),\n",
    "\n",
    "    (2005, 75.3),\n",
    "\n",
    "    (2006, 75.9),\n",
    "\n",
    "    (2007, 76.5),\n",
    "\n",
    "    (2008, 76.9),\n",
    "\n",
    "    (2009, 77.4),\n",
    "\n",
    "    (2010, 78.0),\n",
    "\n",
    "    (2011, 78.5),\n",
    "\n",
    "    (2012, 79.0),\n",
    "\n",
    "    (2013, 79.5),\n",
    "\n",
    "    (2014, 80.0),\n",
    "\n",
    "    (2015, 80.5),\n",
    "\n",
    "    (2016, 81.0),\n",
    "\n",
    "    (2017, 81.5),\n",
    "\n",
    "    (2018, 82.0),\n",
    "\n",
    "    (2019, 82.5)\n",
    "\n",
    "]"
   ]
  },
  {
   "cell_type": "code",
   "execution_count": 38,
   "id": "f3e057cf-6f42-49b5-8f78-af91f96beb68",
   "metadata": {},
   "outputs": [],
   "source": [
    "def mean_calc(data_points):\n",
    "    total = 0\n",
    "    count = 0\n",
    "\n",
    "    for year, expectancy in data_points:\n",
    "        total += expectancy\n",
    "        count += 1\n",
    "\n",
    "    if count > 0:\n",
    "        average = total / count\n",
    "        return average\n",
    "    else:\n",
    "        return none"
   ]
  },
  {
   "cell_type": "code",
   "execution_count": 39,
   "id": "5b6a5f48-8c18-4cf4-9f91-9569832adbe1",
   "metadata": {},
   "outputs": [
    {
     "name": "stdout",
     "output_type": "stream",
     "text": [
      "Average Life Expectancy: 77.64\n"
     ]
    }
   ],
   "source": [
    "mean_life = mean_calc(data_points)\n",
    "\n",
    "print(f\"Average Life Expectancy: {mean_life}\")"
   ]
  },
  {
   "cell_type": "code",
   "execution_count": 40,
   "id": "e9c15506-9653-451f-a6de-419554fc8b64",
   "metadata": {},
   "outputs": [],
   "source": [
    "def regression_coefficients(data_points):\n",
    "    x_sum = 0\n",
    "    y_sum = 0\n",
    "    n = len(data_points)\n",
    "\n",
    "    for x, y in data_points:\n",
    "        x_sum += x\n",
    "        y_sum += y\n",
    "\n",
    "    x_mean = x_sum / n\n",
    "    y_mean = y_sum / n\n",
    "\n",
    "    numerator = 0\n",
    "    denominator = 0\n",
    "\n",
    "    # Calculate the slope\n",
    "    for x, y in data_points:\n",
    "        numerator += (x - x_mean) * (y - y_mean)\n",
    "        denominator += (x - x_mean) ** 2\n",
    "\n",
    "    slope = numerator / denominator\n",
    "\n",
    "    # Calculate the intercept\n",
    "    intercept = y_mean - (slope * x_mean)\n",
    "\n",
    "    return slope, intercept"
   ]
  },
  {
   "cell_type": "code",
   "execution_count": 41,
   "id": "03b944d8-1d45-4f9d-999f-b2c75128e914",
   "metadata": {},
   "outputs": [
    {
     "name": "stdout",
     "output_type": "stream",
     "text": [
      "Slope: 0.5221052631578948\n",
      "Intercept: -971.5305263157896\n"
     ]
    }
   ],
   "source": [
    "slope, intercept = regression_coefficients(data_points)\n",
    "\n",
    "print(f\"Slope: {slope}\")\n",
    "print(f\"Intercept: {intercept}\")"
   ]
  },
  {
   "cell_type": "code",
   "execution_count": 42,
   "id": "63bdb5aa-b71d-4dfa-a695-4a5d869a5b76",
   "metadata": {},
   "outputs": [],
   "source": [
    "# Making predictions\n",
    "def predictions(data_point, slope, intercept):\n",
    "    y_predicted = slope * data_point + intercept\n",
    "\n",
    "    return y_predicted"
   ]
  },
  {
   "cell_type": "code",
   "execution_count": 43,
   "id": "bda34d1c-c58b-4edf-99db-b5b43b546103",
   "metadata": {},
   "outputs": [
    {
     "name": "stdin",
     "output_type": "stream",
     "text": [
      "What year would you like to predict?  2025\n"
     ]
    },
    {
     "name": "stdout",
     "output_type": "stream",
     "text": [
      " For x = 2025, the predicted life expectancy is 85.73263157894746 \n"
     ]
    }
   ],
   "source": [
    "# Using the prediction formula\n",
    "slope = 0.5221052631578948\n",
    "intercept =-971.5305263157896\n",
    "year_prediction = int(input(\"What year would you like to predict? \"))\n",
    "\n",
    "predicted_value = predictions(year_prediction, slope, intercept)\n",
    "\n",
    "print(f\" For x = {year_prediction}, the predicted life expectancy is {predicted_value} \")"
   ]
  }
 ],
 "metadata": {
  "kernelspec": {
   "display_name": "Python 3 (ipykernel)",
   "language": "python",
   "name": "python3"
  },
  "language_info": {
   "codemirror_mode": {
    "name": "ipython",
    "version": 3
   },
   "file_extension": ".py",
   "mimetype": "text/x-python",
   "name": "python",
   "nbconvert_exporter": "python",
   "pygments_lexer": "ipython3",
   "version": "3.11.5"
  }
 },
 "nbformat": 4,
 "nbformat_minor": 5
}
