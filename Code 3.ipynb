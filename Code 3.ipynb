{
 "cells": [
  {
   "cell_type": "code",
   "execution_count": 1,
   "id": "76a741e8-16be-47fd-91be-2aab5215af70",
   "metadata": {},
   "outputs": [
    {
     "name": "stdin",
     "output_type": "stream",
     "text": [
      "Enter your name:  Dean\n"
     ]
    },
    {
     "name": "stdout",
     "output_type": "stream",
     "text": [
      "Hello, Dean! Nice to meet you. \n",
      "Hello, Dean! Nice to meet you.\n"
     ]
    }
   ],
   "source": [
    "#problem 1\n",
    "name = input(\"Enter your name: \")\n",
    "print(f\"Hello, {name}! Nice to meet you. \")\n",
    "print(\"Hello, \"+ name + \"! Nice to meet you.\")\n"
   ]
  },
  {
   "cell_type": "code",
   "execution_count": 4,
   "id": "b87d6dc4-7506-488d-b22d-645a3e3f0990",
   "metadata": {},
   "outputs": [
    {
     "name": "stdin",
     "output_type": "stream",
     "text": [
      "Enter a word:  Cat\n"
     ]
    },
    {
     "name": "stdout",
     "output_type": "stream",
     "text": [
      "Reversed word: taC.\n"
     ]
    }
   ],
   "source": [
    "# problem 2\n",
    "word = input(\"Enter a word: \")\n",
    "reversed_word = word[::-1]\n",
    "print(f\"Reversed word: {reversed_word}.\")"
   ]
  },
  {
   "cell_type": "code",
   "execution_count": 5,
   "id": "5eb66ca7-9cc6-4c5e-9cf4-3ca977ef88db",
   "metadata": {},
   "outputs": [
    {
     "name": "stdin",
     "output_type": "stream",
     "text": [
      "Enter a sentence:  This is a sample sentence.\n"
     ]
    },
    {
     "name": "stdout",
     "output_type": "stream",
     "text": [
      "This sentence has 26 characters. \n"
     ]
    }
   ],
   "source": [
    "# problem 3\n",
    "sentence = input(\"Enter a sentence: \")\n",
    "char_count = len(sentence)\n",
    "print(f\"This sentence has {char_count} characters. \")\n"
   ]
  },
  {
   "cell_type": "code",
   "execution_count": 10,
   "id": "1eab1ac1-b81e-434c-b5b9-3b8517b8409a",
   "metadata": {},
   "outputs": [
    {
     "name": "stdin",
     "output_type": "stream",
     "text": [
      "Enter a word or sentence:  This is a sample sentence.\n"
     ]
    },
    {
     "name": "stdout",
     "output_type": "stream",
     "text": [
      "Number of vowels is 8.\n"
     ]
    }
   ],
   "source": [
    "# problem 4\n",
    "string = input(\"Enter a word or sentence: \")\n",
    "\n",
    "string_lower = string.lower()\n",
    "\n",
    "a_count = string_lower.count('a')\n",
    "e_count = string_lower.count('e')\n",
    "i_count = string_lower.count('i')\n",
    "o_count = string_lower.count('o')\n",
    "u_count = string_lower.count('u')\n",
    "\n",
    "vowel_count = a_count + e_count + i_count + o_count + u_count\n",
    "\n",
    "print (f\"Number of vowels is {vowel_count}.\")"
   ]
  },
  {
   "cell_type": "code",
   "execution_count": 8,
   "id": "d71b7093-aa82-4277-818a-2121f0a61fee",
   "metadata": {},
   "outputs": [
    {
     "name": "stdin",
     "output_type": "stream",
     "text": [
      "Enter a word:  racecar\n"
     ]
    },
    {
     "name": "stdout",
     "output_type": "stream",
     "text": [
      "This word is a palindrome.\n"
     ]
    }
   ],
   "source": [
    "# problem 5\n",
    "word_to_check = input(\"Enter a word: \")\n",
    "word_palindrome = word_to_check.upper()\n",
    "\n",
    "if word_palindrome == word_palindrome[::-1]:\n",
    "    print(f\"This word is a palindrome.\")\n",
    "else:\n",
    "    print(f\"This word is not a palindrome.\")"
   ]
  },
  {
   "cell_type": "code",
   "execution_count": 9,
   "id": "954619be-a4ca-4f99-ad66-82a78cab1a22",
   "metadata": {},
   "outputs": [
    {
     "name": "stdin",
     "output_type": "stream",
     "text": [
      "Enter your secret message:  secret message\n"
     ]
    },
    {
     "name": "stdout",
     "output_type": "stream",
     "text": [
      "Encrypted secret message: SECRET_MESSAGE.\n"
     ]
    }
   ],
   "source": [
    "secret_message = input(\"Enter your secret message: \")\n",
    "encrypted = secret_message.upper().replace(\" \", \"_\")\n",
    "print(f\"Encrypted secret message: {encrypted}.\")"
   ]
  },
  {
   "cell_type": "code",
   "execution_count": null,
   "id": "6f8da6d2-0e3e-46a0-98c3-14e1a26092b5",
   "metadata": {},
   "outputs": [],
   "source": []
  }
 ],
 "metadata": {
  "kernelspec": {
   "display_name": "Python 3 (ipykernel)",
   "language": "python",
   "name": "python3"
  },
  "language_info": {
   "codemirror_mode": {
    "name": "ipython",
    "version": 3
   },
   "file_extension": ".py",
   "mimetype": "text/x-python",
   "name": "python",
   "nbconvert_exporter": "python",
   "pygments_lexer": "ipython3",
   "version": "3.11.5"
  }
 },
 "nbformat": 4,
 "nbformat_minor": 5
}
