{
 "cells": [
  {
   "cell_type": "code",
   "execution_count": 52,
   "metadata": {},
   "outputs": [],
   "source": [
    "import csv\n",
    "import pandas as pd\n",
    "import matplotlib.pyplot as plt\n",
    "from sklearn.linear_model import LogisticRegression"
   ]
  },
  {
   "cell_type": "code",
   "execution_count": 53,
   "metadata": {},
   "outputs": [],
   "source": [
    "hosp_1 = pd.read_csv(\"Hospital1.txt\")\n",
    "hosp_2 = pd.read_csv(\"Hospital2.txt\")"
   ]
  },
  {
   "cell_type": "code",
   "execution_count": 54,
   "metadata": {},
   "outputs": [],
   "source": [
    "assert hosp_1.columns.array == hosp_2.columns.array, \"Column of both dataset must be equal\""
   ]
  },
  {
   "cell_type": "markdown",
   "metadata": {},
   "source": [
    "### HOSPITAL 1"
   ]
  },
  {
   "cell_type": "code",
   "execution_count": 55,
   "metadata": {},
   "outputs": [
    {
     "data": {
      "text/html": [
       "<div>\n",
       "<style scoped>\n",
       "    .dataframe tbody tr th:only-of-type {\n",
       "        vertical-align: middle;\n",
       "    }\n",
       "\n",
       "    .dataframe tbody tr th {\n",
       "        vertical-align: top;\n",
       "    }\n",
       "\n",
       "    .dataframe thead th {\n",
       "        text-align: right;\n",
       "    }\n",
       "</style>\n",
       "<table border=\"1\" class=\"dataframe\">\n",
       "  <thead>\n",
       "    <tr style=\"text-align: right;\">\n",
       "      <th></th>\n",
       "      <th>PatientID</th>\n",
       "      <th>Readmission</th>\n",
       "      <th>StaffSatisfaction</th>\n",
       "      <th>CleanlinessSatisfaction</th>\n",
       "      <th>FoodSatisfaction</th>\n",
       "      <th>ComfortSatisfaction</th>\n",
       "      <th>CommunicationSatisfaction</th>\n",
       "    </tr>\n",
       "  </thead>\n",
       "  <tbody>\n",
       "    <tr>\n",
       "      <th>0</th>\n",
       "      <td>101</td>\n",
       "      <td>1</td>\n",
       "      <td>4</td>\n",
       "      <td>5</td>\n",
       "      <td>3</td>\n",
       "      <td>4</td>\n",
       "      <td>5</td>\n",
       "    </tr>\n",
       "    <tr>\n",
       "      <th>1</th>\n",
       "      <td>102</td>\n",
       "      <td>0</td>\n",
       "      <td>3</td>\n",
       "      <td>2</td>\n",
       "      <td>4</td>\n",
       "      <td>2</td>\n",
       "      <td>3</td>\n",
       "    </tr>\n",
       "    <tr>\n",
       "      <th>2</th>\n",
       "      <td>103</td>\n",
       "      <td>1</td>\n",
       "      <td>5</td>\n",
       "      <td>4</td>\n",
       "      <td>5</td>\n",
       "      <td>4</td>\n",
       "      <td>4</td>\n",
       "    </tr>\n",
       "    <tr>\n",
       "      <th>3</th>\n",
       "      <td>104</td>\n",
       "      <td>0</td>\n",
       "      <td>5</td>\n",
       "      <td>3</td>\n",
       "      <td>5</td>\n",
       "      <td>4</td>\n",
       "      <td>5</td>\n",
       "    </tr>\n",
       "    <tr>\n",
       "      <th>4</th>\n",
       "      <td>105</td>\n",
       "      <td>1</td>\n",
       "      <td>4</td>\n",
       "      <td>5</td>\n",
       "      <td>3</td>\n",
       "      <td>4</td>\n",
       "      <td>4</td>\n",
       "    </tr>\n",
       "  </tbody>\n",
       "</table>\n",
       "</div>"
      ],
      "text/plain": [
       "   PatientID   Readmission   StaffSatisfaction   CleanlinessSatisfaction  \\\n",
       "0        101             1                   4                         5   \n",
       "1        102             0                   3                         2   \n",
       "2        103             1                   5                         4   \n",
       "3        104             0                   5                         3   \n",
       "4        105             1                   4                         5   \n",
       "\n",
       "    FoodSatisfaction   ComfortSatisfaction   CommunicationSatisfaction  \n",
       "0                  3                     4                           5  \n",
       "1                  4                     2                           3  \n",
       "2                  5                     4                           4  \n",
       "3                  5                     4                           5  \n",
       "4                  3                     4                           4  "
      ]
     },
     "execution_count": 55,
     "metadata": {},
     "output_type": "execute_result"
    }
   ],
   "source": [
    "hosp_1.head()"
   ]
  },
  {
   "cell_type": "code",
   "execution_count": 56,
   "metadata": {},
   "outputs": [
    {
     "name": "stdout",
     "output_type": "stream",
     "text": [
      "The number of patients who were readmitted were 38.\n"
     ]
    }
   ],
   "source": [
    "tmp = hosp_1[hosp_1[' Readmission']== 1]\n",
    "hosp_1_patients_readmitted = tmp[' Readmission'].sum()\n",
    "print(f\"The number of patients who were readmitted were {hosp_1_patients_readmitted}.\")"
   ]
  },
  {
   "cell_type": "code",
   "execution_count": 57,
   "metadata": {},
   "outputs": [
    {
     "name": "stdout",
     "output_type": "stream",
     "text": [
      "The number of patients who were satisfied with staff are 3.51.\n"
     ]
    }
   ],
   "source": [
    "# Average satisfaction score for staff\n",
    "hosp_1_average_satisfacation_staff = hosp_1[' StaffSatisfaction'].mean()\n",
    "hosp_1_average_satisfacation_staff = round(hosp_1_average_satisfacation_staff, 2)\n",
    "print(f\"The number of patients who were satisfied with staff are {hosp_1_average_satisfacation_staff}.\")"
   ]
  },
  {
   "cell_type": "code",
   "execution_count": 58,
   "metadata": {},
   "outputs": [
    {
     "name": "stdout",
     "output_type": "stream",
     "text": [
      "The number of patients who were satisfied with cleanliness of hospital are 3.61.\n"
     ]
    }
   ],
   "source": [
    "# Average satisfaction score for cleanliness \n",
    "hosp_1_average_satisfaction_cleanliness = hosp_1[' CleanlinessSatisfaction'].mean()\n",
    "hosp_1_average_satisfaction_cleanliness = round(hosp_1_average_satisfaction_cleanliness, 2)\n",
    "print(f\"The number of patients who were satisfied with cleanliness of hospital are {hosp_1_average_satisfaction_cleanliness}.\")"
   ]
  },
  {
   "cell_type": "code",
   "execution_count": 59,
   "metadata": {},
   "outputs": [
    {
     "name": "stdout",
     "output_type": "stream",
     "text": [
      "3.51\n",
      "The number of patients who were satisfied with food quality of hospital are 3.51.\n"
     ]
    }
   ],
   "source": [
    "# Average satisfaction score for food\n",
    "hosp_1_average_satisfaction_food = hosp_1[' FoodSatisfaction'].mean()\n",
    "hosp_1_average_satisfaction_food = round(hosp_1_average_satisfaction_food, 2)\n",
    "print(hosp_1_average_satisfaction_food)\n",
    "print(f\"The number of patients who were satisfied with food quality of hospital are {hosp_1_average_satisfaction_food}.\")"
   ]
  },
  {
   "cell_type": "code",
   "execution_count": 60,
   "metadata": {},
   "outputs": [
    {
     "name": "stdout",
     "output_type": "stream",
     "text": [
      "The number of patients who were satisfied with communication of hospital staff are 3.7.\n"
     ]
    }
   ],
   "source": [
    "# Average satisfaction score for food\n",
    "hosp_1_average_satisfaction_communication = hosp_1[' CommunicationSatisfaction'].mean()\n",
    "hosp_1_average_satisfaction_communication = round(hosp_1_average_satisfaction_communication, 2)\n",
    "print(f\"The number of patients who were satisfied with communication of hospital staff are {hosp_1_average_satisfaction_communication}.\")"
   ]
  },
  {
   "cell_type": "code",
   "execution_count": 61,
   "metadata": {},
   "outputs": [
    {
     "name": "stdout",
     "output_type": "stream",
     "text": [
      "The number of patients who were satisfied with hospital's overall comfort are 3.72.\n"
     ]
    }
   ],
   "source": [
    "# Average satisfaction score for food\n",
    "hosp_1_average_satisfaction_comfort = hosp_1[' ComfortSatisfaction'].mean()\n",
    "hosp_1_average_satisfaction_comfort = round(hosp_1_average_satisfaction_comfort, 2)\n",
    "print(f\"The number of patients who were satisfied with hospital's overall comfort are {hosp_1_average_satisfaction_comfort}.\")"
   ]
  },
  {
   "cell_type": "code",
   "execution_count": 62,
   "metadata": {},
   "outputs": [],
   "source": [
    "# Using columns, calculate the mean() of exisitng columns.\n",
    "hosp_1['Overall_Satisfaction'] = hosp_1[\n",
    "                                            [\n",
    "                                                ' StaffSatisfaction', \n",
    "                                                ' CleanlinessSatisfaction', \n",
    "                                                ' FoodSatisfaction', \n",
    "                                                ' ComfortSatisfaction', \n",
    "                                                ' CommunicationSatisfaction'\n",
    "                                            ]\n",
    "                                        ].mean(axis=1)"
   ]
  },
  {
   "cell_type": "code",
   "execution_count": 63,
   "metadata": {},
   "outputs": [
    {
     "data": {
      "text/html": [
       "<div>\n",
       "<style scoped>\n",
       "    .dataframe tbody tr th:only-of-type {\n",
       "        vertical-align: middle;\n",
       "    }\n",
       "\n",
       "    .dataframe tbody tr th {\n",
       "        vertical-align: top;\n",
       "    }\n",
       "\n",
       "    .dataframe thead th {\n",
       "        text-align: right;\n",
       "    }\n",
       "</style>\n",
       "<table border=\"1\" class=\"dataframe\">\n",
       "  <thead>\n",
       "    <tr style=\"text-align: right;\">\n",
       "      <th></th>\n",
       "      <th>Overall_Satisfaction</th>\n",
       "    </tr>\n",
       "  </thead>\n",
       "  <tbody>\n",
       "    <tr>\n",
       "      <th>0</th>\n",
       "      <td>4.2</td>\n",
       "    </tr>\n",
       "    <tr>\n",
       "      <th>1</th>\n",
       "      <td>2.8</td>\n",
       "    </tr>\n",
       "    <tr>\n",
       "      <th>2</th>\n",
       "      <td>4.4</td>\n",
       "    </tr>\n",
       "    <tr>\n",
       "      <th>3</th>\n",
       "      <td>4.4</td>\n",
       "    </tr>\n",
       "    <tr>\n",
       "      <th>4</th>\n",
       "      <td>4.0</td>\n",
       "    </tr>\n",
       "    <tr>\n",
       "      <th>...</th>\n",
       "      <td>...</td>\n",
       "    </tr>\n",
       "    <tr>\n",
       "      <th>69</th>\n",
       "      <td>3.2</td>\n",
       "    </tr>\n",
       "    <tr>\n",
       "      <th>70</th>\n",
       "      <td>4.4</td>\n",
       "    </tr>\n",
       "    <tr>\n",
       "      <th>71</th>\n",
       "      <td>2.4</td>\n",
       "    </tr>\n",
       "    <tr>\n",
       "      <th>72</th>\n",
       "      <td>3.4</td>\n",
       "    </tr>\n",
       "    <tr>\n",
       "      <th>73</th>\n",
       "      <td>2.8</td>\n",
       "    </tr>\n",
       "  </tbody>\n",
       "</table>\n",
       "<p>74 rows × 1 columns</p>\n",
       "</div>"
      ],
      "text/plain": [
       "    Overall_Satisfaction\n",
       "0                    4.2\n",
       "1                    2.8\n",
       "2                    4.4\n",
       "3                    4.4\n",
       "4                    4.0\n",
       "..                   ...\n",
       "69                   3.2\n",
       "70                   4.4\n",
       "71                   2.4\n",
       "72                   3.4\n",
       "73                   2.8\n",
       "\n",
       "[74 rows x 1 columns]"
      ]
     },
     "execution_count": 63,
     "metadata": {},
     "output_type": "execute_result"
    }
   ],
   "source": [
    "hosp_1[['Overall_Satisfaction']]"
   ]
  },
  {
   "cell_type": "code",
   "execution_count": 64,
   "metadata": {},
   "outputs": [
    {
     "data": {
      "text/html": [
       "<div>\n",
       "<style scoped>\n",
       "    .dataframe tbody tr th:only-of-type {\n",
       "        vertical-align: middle;\n",
       "    }\n",
       "\n",
       "    .dataframe tbody tr th {\n",
       "        vertical-align: top;\n",
       "    }\n",
       "\n",
       "    .dataframe thead th {\n",
       "        text-align: right;\n",
       "    }\n",
       "</style>\n",
       "<table border=\"1\" class=\"dataframe\">\n",
       "  <thead>\n",
       "    <tr style=\"text-align: right;\">\n",
       "      <th></th>\n",
       "      <th>Overall_Satisfaction</th>\n",
       "      <th>Readmission</th>\n",
       "    </tr>\n",
       "  </thead>\n",
       "  <tbody>\n",
       "    <tr>\n",
       "      <th>count</th>\n",
       "      <td>74.000000</td>\n",
       "      <td>74.000000</td>\n",
       "    </tr>\n",
       "    <tr>\n",
       "      <th>mean</th>\n",
       "      <td>3.610811</td>\n",
       "      <td>0.513514</td>\n",
       "    </tr>\n",
       "    <tr>\n",
       "      <th>std</th>\n",
       "      <td>0.772040</td>\n",
       "      <td>0.503229</td>\n",
       "    </tr>\n",
       "    <tr>\n",
       "      <th>min</th>\n",
       "      <td>2.400000</td>\n",
       "      <td>0.000000</td>\n",
       "    </tr>\n",
       "    <tr>\n",
       "      <th>25%</th>\n",
       "      <td>3.000000</td>\n",
       "      <td>0.000000</td>\n",
       "    </tr>\n",
       "    <tr>\n",
       "      <th>50%</th>\n",
       "      <td>3.600000</td>\n",
       "      <td>1.000000</td>\n",
       "    </tr>\n",
       "    <tr>\n",
       "      <th>75%</th>\n",
       "      <td>4.400000</td>\n",
       "      <td>1.000000</td>\n",
       "    </tr>\n",
       "    <tr>\n",
       "      <th>max</th>\n",
       "      <td>4.800000</td>\n",
       "      <td>1.000000</td>\n",
       "    </tr>\n",
       "  </tbody>\n",
       "</table>\n",
       "</div>"
      ],
      "text/plain": [
       "       Overall_Satisfaction   Readmission\n",
       "count             74.000000     74.000000\n",
       "mean               3.610811      0.513514\n",
       "std                0.772040      0.503229\n",
       "min                2.400000      0.000000\n",
       "25%                3.000000      0.000000\n",
       "50%                3.600000      1.000000\n",
       "75%                4.400000      1.000000\n",
       "max                4.800000      1.000000"
      ]
     },
     "execution_count": 64,
     "metadata": {},
     "output_type": "execute_result"
    }
   ],
   "source": [
    "hosp_1[['Overall_Satisfaction', ' Readmission' ]].describe()"
   ]
  },
  {
   "cell_type": "code",
   "execution_count": 65,
   "metadata": {},
   "outputs": [],
   "source": [
    "X = hosp_1[['Overall_Satisfaction']].values\n",
    "Y = hosp_1[' Readmission']\n",
    "log_reg = LogisticRegression().fit(X, Y)"
   ]
  },
  {
   "cell_type": "code",
   "execution_count": 66,
   "metadata": {},
   "outputs": [
    {
     "data": {
      "image/png": "[encoded data removed]",
      "text/plain": [
       "<Figure size 800x600 with 1 Axes>"
      ]
     },
     "metadata": {},
     "output_type": "display_data"
    }
   ],
   "source": [
    "# Scatter plot of Age vs Blood Pressure\n",
    "plt.figure(figsize=(8, 6))\n",
    "plt.scatter(hosp_1['Overall_Satisfaction'], hosp_1[' Readmission'], color='black')\n",
    "plt.xlabel('Overall Satisfaction')\n",
    "plt.ylabel('Readmission')\n",
    "plt.title(\"Overall Satisfaction vs Readmission\")\n",
    "plt.show()"
   ]
  },
  {
   "cell_type": "code",
   "execution_count": 67,
   "metadata": {},
   "outputs": [
    {
     "data": {
      "text/plain": [
       "<matplotlib.collections.PathCollection at 0x251e5b55610>"
      ]
     },
     "execution_count": 67,
     "metadata": {},
     "output_type": "execute_result"
    },
    {
     "data": {
      "image/png": "[encoded data removed]",
      "text/plain": [
       "<Figure size 640x480 with 1 Axes>"
      ]
     },
     "metadata": {},
     "output_type": "display_data"
    }
   ],
   "source": [
    "plt.plot(X, log_reg.predict(X), label = \"Regression Line\", color= \"pink\")\n",
    "plt.scatter(hosp_1['Overall_Satisfaction'], hosp_1[' Readmission'], color='black')"
   ]
  },
  {
   "cell_type": "code",
   "execution_count": 68,
   "metadata": {},
   "outputs": [
    {
     "name": "stdout",
     "output_type": "stream",
     "text": [
      "The absolute correlation coefficient is 0.39. It shows that this is a weak correlation.\n"
     ]
    }
   ],
   "source": [
    "# Get coefficients from the trained model\n",
    "coefficients = log_reg.coef_\n",
    "\n",
    "# Absolute correlation\n",
    "hosp_1_abs_correlation = abs(coefficients[0][0])\n",
    "\n",
    "# Determine the strength of the correlation\n",
    "if hosp_1_abs_correlation >= 0.5:\n",
    "    hosp_1_stregth = \"strong\"\n",
    "else:\n",
    "    hosp_1_stregth = \"weak\"\n",
    "\n",
    "print(f\"The absolute correlation coefficient is {hosp_1_abs_correlation:.2f}. It shows that this is a {hosp_1_stregth} correlation.\")"
   ]
  },
  {
   "cell_type": "markdown",
   "metadata": {},
   "source": [
    "### HOSPITAL 2"
   ]
  },
  {
   "cell_type": "code",
   "execution_count": 69,
   "metadata": {},
   "outputs": [
    {
     "data": {
      "text/html": [
       "<div>\n",
       "<style scoped>\n",
       "    .dataframe tbody tr th:only-of-type {\n",
       "        vertical-align: middle;\n",
       "    }\n",
       "\n",
       "    .dataframe tbody tr th {\n",
       "        vertical-align: top;\n",
       "    }\n",
       "\n",
       "    .dataframe thead th {\n",
       "        text-align: right;\n",
       "    }\n",
       "</style>\n",
       "<table border=\"1\" class=\"dataframe\">\n",
       "  <thead>\n",
       "    <tr style=\"text-align: right;\">\n",
       "      <th></th>\n",
       "      <th>PatientID</th>\n",
       "      <th>Readmission</th>\n",
       "      <th>StaffSatisfaction</th>\n",
       "      <th>CleanlinessSatisfaction</th>\n",
       "      <th>FoodSatisfaction</th>\n",
       "      <th>ComfortSatisfaction</th>\n",
       "      <th>CommunicationSatisfaction</th>\n",
       "    </tr>\n",
       "  </thead>\n",
       "  <tbody>\n",
       "    <tr>\n",
       "      <th>0</th>\n",
       "      <td>101</td>\n",
       "      <td>1</td>\n",
       "      <td>4</td>\n",
       "      <td>5</td>\n",
       "      <td>3</td>\n",
       "      <td>4</td>\n",
       "      <td>5</td>\n",
       "    </tr>\n",
       "    <tr>\n",
       "      <th>1</th>\n",
       "      <td>102</td>\n",
       "      <td>0</td>\n",
       "      <td>3</td>\n",
       "      <td>2</td>\n",
       "      <td>4</td>\n",
       "      <td>2</td>\n",
       "      <td>3</td>\n",
       "    </tr>\n",
       "    <tr>\n",
       "      <th>2</th>\n",
       "      <td>103</td>\n",
       "      <td>1</td>\n",
       "      <td>5</td>\n",
       "      <td>4</td>\n",
       "      <td>5</td>\n",
       "      <td>4</td>\n",
       "      <td>4</td>\n",
       "    </tr>\n",
       "    <tr>\n",
       "      <th>3</th>\n",
       "      <td>104</td>\n",
       "      <td>0</td>\n",
       "      <td>5</td>\n",
       "      <td>3</td>\n",
       "      <td>5</td>\n",
       "      <td>4</td>\n",
       "      <td>5</td>\n",
       "    </tr>\n",
       "    <tr>\n",
       "      <th>4</th>\n",
       "      <td>105</td>\n",
       "      <td>1</td>\n",
       "      <td>4</td>\n",
       "      <td>5</td>\n",
       "      <td>3</td>\n",
       "      <td>4</td>\n",
       "      <td>4</td>\n",
       "    </tr>\n",
       "  </tbody>\n",
       "</table>\n",
       "</div>"
      ],
      "text/plain": [
       "   PatientID   Readmission   StaffSatisfaction   CleanlinessSatisfaction  \\\n",
       "0        101             1                   4                         5   \n",
       "1        102             0                   3                         2   \n",
       "2        103             1                   5                         4   \n",
       "3        104             0                   5                         3   \n",
       "4        105             1                   4                         5   \n",
       "\n",
       "    FoodSatisfaction   ComfortSatisfaction   CommunicationSatisfaction  \n",
       "0                  3                     4                           5  \n",
       "1                  4                     2                           3  \n",
       "2                  5                     4                           4  \n",
       "3                  5                     4                           5  \n",
       "4                  3                     4                           4  "
      ]
     },
     "execution_count": 69,
     "metadata": {},
     "output_type": "execute_result"
    }
   ],
   "source": [
    "hosp_2.head()"
   ]
  },
  {
   "cell_type": "code",
   "execution_count": 70,
   "metadata": {},
   "outputs": [
    {
     "name": "stdout",
     "output_type": "stream",
     "text": [
      "The number of patients who were readmitted were 29.\n"
     ]
    }
   ],
   "source": [
    "tmp = hosp_2[hosp_2[' Readmission']== 1]\n",
    "hosp_2_patients_readmitted = tmp[' Readmission'].sum()\n",
    "print(f\"The number of patients who were readmitted were {hosp_2_patients_readmitted}.\")"
   ]
  },
  {
   "cell_type": "code",
   "execution_count": 71,
   "metadata": {},
   "outputs": [
    {
     "name": "stdout",
     "output_type": "stream",
     "text": [
      "3.53\n",
      "The number of patients who were satisfied with staff are 3.53.\n"
     ]
    }
   ],
   "source": [
    "# Average satisfaction score for staff\n",
    "hosp_2_average_satisfacation_staff = hosp_2[' StaffSatisfaction'].mean()\n",
    "hosp_2_average_satisfacation_staff = round(hosp_2_average_satisfacation_staff, 2)\n",
    "print(hosp_2_average_satisfacation_staff)\n",
    "print(f\"The number of patients who were satisfied with staff are {hosp_2_average_satisfacation_staff}.\")"
   ]
  },
  {
   "cell_type": "code",
   "execution_count": 72,
   "metadata": {},
   "outputs": [
    {
     "name": "stdout",
     "output_type": "stream",
     "text": [
      "The number of patients who were satisfied with cleanliness of hospital are 3.63.\n"
     ]
    }
   ],
   "source": [
    "# Average satisfaction score for cleanliness \n",
    "hosp_2_average_satisfaction_cleanliness = hosp_2[' CleanlinessSatisfaction'].mean()\n",
    "hosp_2_average_satisfaction_cleanliness = round(hosp_2_average_satisfaction_cleanliness, 2)\n",
    "print(f\"The number of patients who were satisfied with cleanliness of hospital are {hosp_2_average_satisfaction_cleanliness}.\")"
   ]
  },
  {
   "cell_type": "code",
   "execution_count": 73,
   "metadata": {},
   "outputs": [
    {
     "name": "stdout",
     "output_type": "stream",
     "text": [
      "The number of patients who were satisfied with food quality of hospital are 3.56.\n"
     ]
    }
   ],
   "source": [
    "# Average satisfaction score for food\n",
    "hosp_2_average_satisfaction_food = hosp_2[' FoodSatisfaction'].mean()\n",
    "hosp_2_average_satisfaction_food = round(hosp_2_average_satisfaction_food, 2)\n",
    "print(f\"The number of patients who were satisfied with food quality of hospital are {hosp_2_average_satisfaction_food}.\")"
   ]
  },
  {
   "cell_type": "code",
   "execution_count": 74,
   "metadata": {},
   "outputs": [
    {
     "name": "stdout",
     "output_type": "stream",
     "text": [
      "The number of patients who were satisfied with communication of hospital staff are 3.72.\n"
     ]
    }
   ],
   "source": [
    "\n",
    "# Average satisfaction score for food\n",
    "hosp_2_average_satisfaction_communication = hosp_2[' CommunicationSatisfaction'].mean()\n",
    "hosp_2_average_satisfaction_communication = round(hosp_2_average_satisfaction_communication, 2)\n",
    "print(f\"The number of patients who were satisfied with communication of hospital staff are {hosp_2_average_satisfaction_communication}.\")"
   ]
  },
  {
   "cell_type": "code",
   "execution_count": 75,
   "metadata": {},
   "outputs": [
    {
     "name": "stdout",
     "output_type": "stream",
     "text": [
      "The number of patients who were satisfied with hospital's overall comfort are 3.75.\n"
     ]
    }
   ],
   "source": [
    "# Average satisfaction score for food\n",
    "hosp_2_average_satisfaction_comfort = hosp_2[' ComfortSatisfaction'].mean()\n",
    "hosp_2_average_satisfaction_comfort = round(hosp_2_average_satisfaction_comfort, 2)\n",
    "print(f\"The number of patients who were satisfied with hospital's overall comfort are {hosp_2_average_satisfaction_comfort}.\")"
   ]
  },
  {
   "cell_type": "code",
   "execution_count": 76,
   "metadata": {},
   "outputs": [],
   "source": [
    "# Using columns, calculate the mean() of exisitng columns.\n",
    "hosp_2['Overall_Satisfaction'] = hosp_2[\n",
    "                                            [\n",
    "                                                ' StaffSatisfaction', \n",
    "                                                ' CleanlinessSatisfaction', \n",
    "                                                ' FoodSatisfaction', \n",
    "                                                ' ComfortSatisfaction', \n",
    "                                                ' CommunicationSatisfaction'\n",
    "                                            ]\n",
    "                                        ].mean(axis=1)"
   ]
  },
  {
   "cell_type": "code",
   "execution_count": 77,
   "metadata": {},
   "outputs": [
    {
     "data": {
      "text/html": [
       "<div>\n",
       "<style scoped>\n",
       "    .dataframe tbody tr th:only-of-type {\n",
       "        vertical-align: middle;\n",
       "    }\n",
       "\n",
       "    .dataframe tbody tr th {\n",
       "        vertical-align: top;\n",
       "    }\n",
       "\n",
       "    .dataframe thead th {\n",
       "        text-align: right;\n",
       "    }\n",
       "</style>\n",
       "<table border=\"1\" class=\"dataframe\">\n",
       "  <thead>\n",
       "    <tr style=\"text-align: right;\">\n",
       "      <th></th>\n",
       "      <th>Overall_Satisfaction</th>\n",
       "      <th>Readmission</th>\n",
       "    </tr>\n",
       "  </thead>\n",
       "  <tbody>\n",
       "    <tr>\n",
       "      <th>count</th>\n",
       "      <td>57.000000</td>\n",
       "      <td>57.000000</td>\n",
       "    </tr>\n",
       "    <tr>\n",
       "      <th>mean</th>\n",
       "      <td>3.638596</td>\n",
       "      <td>0.508772</td>\n",
       "    </tr>\n",
       "    <tr>\n",
       "      <th>std</th>\n",
       "      <td>0.775001</td>\n",
       "      <td>0.504367</td>\n",
       "    </tr>\n",
       "    <tr>\n",
       "      <th>min</th>\n",
       "      <td>2.400000</td>\n",
       "      <td>0.000000</td>\n",
       "    </tr>\n",
       "    <tr>\n",
       "      <th>25%</th>\n",
       "      <td>3.000000</td>\n",
       "      <td>0.000000</td>\n",
       "    </tr>\n",
       "    <tr>\n",
       "      <th>50%</th>\n",
       "      <td>3.600000</td>\n",
       "      <td>1.000000</td>\n",
       "    </tr>\n",
       "    <tr>\n",
       "      <th>75%</th>\n",
       "      <td>4.400000</td>\n",
       "      <td>1.000000</td>\n",
       "    </tr>\n",
       "    <tr>\n",
       "      <th>max</th>\n",
       "      <td>4.800000</td>\n",
       "      <td>1.000000</td>\n",
       "    </tr>\n",
       "  </tbody>\n",
       "</table>\n",
       "</div>"
      ],
      "text/plain": [
       "       Overall_Satisfaction   Readmission\n",
       "count             57.000000     57.000000\n",
       "mean               3.638596      0.508772\n",
       "std                0.775001      0.504367\n",
       "min                2.400000      0.000000\n",
       "25%                3.000000      0.000000\n",
       "50%                3.600000      1.000000\n",
       "75%                4.400000      1.000000\n",
       "max                4.800000      1.000000"
      ]
     },
     "execution_count": 77,
     "metadata": {},
     "output_type": "execute_result"
    }
   ],
   "source": [
    "hosp_2[['Overall_Satisfaction', ' Readmission' ]].describe()"
   ]
  },
  {
   "cell_type": "code",
   "execution_count": 78,
   "metadata": {},
   "outputs": [],
   "source": [
    "X = hosp_2[['Overall_Satisfaction']].values\n",
    "Y = hosp_2[' Readmission']\n",
    "log_reg = LogisticRegression().fit(X, Y)"
   ]
  },
  {
   "cell_type": "code",
   "execution_count": 79,
   "metadata": {},
   "outputs": [
    {
     "data": {
      "image/png": "[encoded data removed]",
      "text/plain": [
       "<Figure size 800x600 with 1 Axes>"
      ]
     },
     "metadata": {},
     "output_type": "display_data"
    }
   ],
   "source": [
    "# Scatter plot of Age vs Blood Pressure\n",
    "plt.figure(figsize=(8, 6))\n",
    "plt.scatter(hosp_2['Overall_Satisfaction'], hosp_2[' Readmission'], color='black')\n",
    "plt.xlabel('Overall Satisfaction')\n",
    "plt.ylabel('Readmission')\n",
    "plt.title(\"Overall Satisfaction vs Readmission\")\n",
    "plt.show()"
   ]
  },
  {
   "cell_type": "code",
   "execution_count": 80,
   "metadata": {},
   "outputs": [
    {
     "data": {
      "text/plain": [
       "<matplotlib.collections.PathCollection at 0x251e8f42eb0>"
      ]
     },
     "execution_count": 80,
     "metadata": {},
     "output_type": "execute_result"
    },
    {
     "data": {
      "image/png": "[encoded data removed]",
      "text/plain": [
       "<Figure size 640x480 with 1 Axes>"
      ]
     },
     "metadata": {},
     "output_type": "display_data"
    }
   ],
   "source": [
    "plt.plot(X, log_reg.predict(X), label = \"Regression Line\", color= \"pink\")\n",
    "plt.scatter(hosp_2['Overall_Satisfaction'], hosp_2[' Readmission'], color='black')"
   ]
  },
  {
   "cell_type": "code",
   "execution_count": 81,
   "metadata": {},
   "outputs": [
    {
     "name": "stdout",
     "output_type": "stream",
     "text": [
      "The absolute correlation coefficient is 0.33. It shows that this is a weak correlation.\n"
     ]
    }
   ],
   "source": [
    "# Get coefficients from the trained model\n",
    "coefficients = log_reg.coef_\n",
    "\n",
    "# Absolute correlation\n",
    "hosp_2_abs_correlation = abs(coefficients[0][0])\n",
    "\n",
    "# Determine the strength of the correlation\n",
    "if hosp_2_abs_correlation >= 0.5:\n",
    "    hosp_2_stregth = \"strong\"\n",
    "else:\n",
    "    hosp_2_stregth = \"weak\"\n",
    "\n",
    "print(f\"The absolute correlation coefficient is {hosp_2_abs_correlation:.2f}. It shows that this is a {hosp_2_stregth} correlation.\")"
   ]
  },
  {
   "cell_type": "code",
   "execution_count": 82,
   "metadata": {},
   "outputs": [
    {
     "name": "stdout",
     "output_type": "stream",
     "text": [
      "=========== HOSPITAL COMPARISON ================\n",
      "Based on data analysis and logistics regression results, Hospital 1 has higher satisfaction rating\n",
      "and a weak corelation between overall satisfaction and re-admission rates compared to Hospital 2.\n"
     ]
    }
   ],
   "source": [
    "print(\"=========== HOSPITAL COMPARISON ================\")\n",
    "# Compare both hospital details.\n",
    "tmp_hosp_1 = None\n",
    "tmp_hosp_2 = None\n",
    "\n",
    "# Compare satisfaction result.\n",
    "if hosp_1[['Overall_Satisfaction']].sum().values > hosp_2[['Overall_Satisfaction']].sum().values:\n",
    "    tmp_hosp_1 = \"Hospital 1\"\n",
    "    tmp_hosp_2 = \"Hospital 2\"\n",
    "else:\n",
    "    tmp_hosp_1 = \"Hospital 2\"\n",
    "    tmp_hosp_2 = \"Hospital 1\"\n",
    "\n",
    "# Compare cofficent result.\n",
    "tmp_great_core_coof = None\n",
    "if hosp_1_abs_correlation > hosp_2_abs_correlation:\n",
    "    tmp_great_core_coof = \"Hospital 1\"\n",
    "else:\n",
    "    tmp_great_core_coof = \"Hospital 2\"\n",
    "\n",
    "# Based on calculations above. Final result is printed.\n",
    "print(f\"Based on data analysis and logistics regression results, {tmp_hosp_1} has higher satisfaction rating\\nand a {hosp_1_stregth} corelation between overall satisfaction and re-admission rates compared to {tmp_hosp_2}.\")\n"
   ]
  },
  {
   "cell_type": "code",
   "execution_count": null,
   "metadata": {},
   "outputs": [],
   "source": []
  }
 ],
 "metadata": {
  "kernelspec": {
   "display_name": "opencv",
   "language": "python",
   "name": "python3"
  },
  "language_info": {
   "codemirror_mode": {
    "name": "ipython",
    "version": 3
   },
   "file_extension": ".py",
   "mimetype": "text/x-python",
   "name": "python",
   "nbconvert_exporter": "python",
   "pygments_lexer": "ipython3",
   "version": "3.9.17"
  }
 },
 "nbformat": 4,
 "nbformat_minor": 2
}
