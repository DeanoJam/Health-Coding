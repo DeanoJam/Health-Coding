{
 "cells": [
  {
   "cell_type": "code",
   "execution_count": 14,
   "id": "a080d24c-0fb8-444b-adc3-4a78a54965e8",
   "metadata": {},
   "outputs": [],
   "source": [
    "def calculate_sample_size(population_size, confidence_level, margin_of_error):\n",
    "    if confidence_level == 90:\n",
    "        z_score = 1.64\n",
    "    elif confidence_level == 95:\n",
    "        z_score = 1.96\n",
    "    elif confidence_level == 99:\n",
    "        z_score = 2.58\n",
    "    else:\n",
    "        print(\"Unsupported confidence level. Please input a value of a 90, 95, or 99.\")\n",
    "        return none\n",
    "\n",
    "    #Specify the unkown proportion value\n",
    "    p = 0.5\n",
    "\n",
    "    # Perform the calculation \n",
    "    sample_size = ((z_score * z_score * p * (1-p)) / (margin_of_error * margin_of_error))\n",
    "    return int(sample_size)\n",
    "\n",
    "ss = calculate_sample_size(14000, 95, 0.05)"
   ]
  },
  {
   "cell_type": "code",
   "execution_count": 15,
   "id": "4e8a8866-a478-49b8-bff4-43c95be367f2",
   "metadata": {},
   "outputs": [],
   "source": [
    "def systematic_sample(population, sample_size):\n",
    "    interval = len(population) / sample_size\n",
    "    interval = round(interval)\n",
    "\n",
    "    selected_elements = []\n",
    "\n",
    "    for i in range(0, len(population), interval):\n",
    "        selected_elements.append(population[i])\n",
    "\n",
    "    return selected_elements"
   ]
  },
  {
   "cell_type": "code",
   "execution_count": 16,
   "id": "12b18a5a-3413-4304-990b-8d0c93a5216a",
   "metadata": {},
   "outputs": [
    {
     "name": "stdin",
     "output_type": "stream",
     "text": [
      "Enter the population size:  168000\n",
      "Enter the confidence level, ex 90, 95, or 99:  95\n",
      "Enter the desired margin of error, ex 0.05, 0.10:  0.10\n"
     ]
    },
    {
     "name": "stdout",
     "output_type": "stream",
     "text": [
      "The calculated sample size was approximately 96\n"
     ]
    },
    {
     "name": "stdin",
     "output_type": "stream",
     "text": [
      "Enter your desired sample size:  20\n"
     ]
    },
    {
     "name": "stdout",
     "output_type": "stream",
     "text": [
      "The following elements were selected by systematic random sampling: \n",
      "[1, 1751, 3501, 5251, 7001, 8751, 10501, 12251, 14001, 15751, 17501, 19251, 21001, 22751, 24501, 26251, 28001, 29751, 31501, 33251, 35001, 36751, 38501, 40251, 42001, 43751, 45501, 47251, 49001, 50751, 52501, 54251, 56001, 57751, 59501, 61251, 63001, 64751, 66501, 68251, 70001, 71751, 73501, 75251, 77001, 78751, 80501, 82251, 84001, 85751, 87501, 89251, 91001, 92751, 94501, 96251, 98001, 99751, 101501, 103251, 105001, 106751, 108501, 110251, 112001, 113751, 115501, 117251, 119001, 120751, 122501, 124251, 126001, 127751, 129501, 131251, 133001, 134751, 136501, 138251, 140001, 141751, 143501, 145251, 147001, 148751, 150501, 152251, 154001, 155751, 157501, 159251, 161001, 162751, 164501, 166251]\n"
     ]
    }
   ],
   "source": [
    "# Getting user input\n",
    "population_size = int(input(\"Enter the population size: \"))\n",
    "confidence_level = int(input(\"Enter the confidence level, ex 90, 95, or 99: \"))\n",
    "margin_of_error = float(input(\"Enter the desired margin of error, ex 0.05, 0.10: \"))\n",
    "\n",
    "sample_size = calculate_sample_size(population_size, confidence_level, margin_of_error)\n",
    "\n",
    "print(f\"The calculated sample size was approximately {sample_size}\")\n",
    "\n",
    "user_sample_size = int(input(\"Enter your desired sample size: \"))\n",
    "\n",
    "maximum_sample_size = calculate_sample_size(population_size, 99, 0.01)\n",
    "\n",
    "if user_sample_size > maximum_sample_size:\n",
    "    print(\"Sorry, the requested sample size is most likely not feasible, please enter a smaller sample size.\")\n",
    "\n",
    "else:\n",
    "    systematic_sample = systematic_sample(list(range(1, population_size + 1)), sample_size)\n",
    "\n",
    "    print(\"The following elements were selected by systematic random sampling: \")\n",
    "    print(systematic_sample)"
   ]
  }
 ],
 "metadata": {
  "kernelspec": {
   "display_name": "Python 3 (ipykernel)",
   "language": "python",
   "name": "python3"
  },
  "language_info": {
   "codemirror_mode": {
    "name": "ipython",
    "version": 3
   },
   "file_extension": ".py",
   "mimetype": "text/x-python",
   "name": "python",
   "nbconvert_exporter": "python",
   "pygments_lexer": "ipython3",
   "version": "3.11.5"
  }
 },
 "nbformat": 4,
 "nbformat_minor": 5
}
