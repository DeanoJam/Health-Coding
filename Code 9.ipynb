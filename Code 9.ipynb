{
 "cells": [
  {
   "cell_type": "code",
   "execution_count": 21,
   "id": "80b5fa5a-da2b-43b3-bcff-593ae0213929",
   "metadata": {},
   "outputs": [],
   "source": [
    "class Patients:\n",
    "    def __init__(self, name, age, gender, blood_pressure, temperature):\n",
    "        self.name = name\n",
    "        self.age = age\n",
    "        self.gender = gender\n",
    "        self.blood_pressure = blood_pressure\n",
    "        self.temperature = temperature\n",
    "\n",
    "    def display_patient_info(self):\n",
    "        print(f\"Name: {self.name}\\nAge: {self.age}\\nGender: {self.gender}\\nBlood Pressure: {self.blood_pressure[0]} / {self.blood_pressure[1]}\\nTemperature: {self.temperature}\")\n",
    "        \n",
    "\n",
    "    def is_hypertensive(self):\n",
    "            systolic, diastolic = self.blood_pressure\n",
    "            return systolic >= 140 or diastolic >= 90\n",
    "\n",
    "    def is_feverish(self):\n",
    "            return self.temperature >= 37.5"
   ]
  },
  {
   "cell_type": "code",
   "execution_count": 22,
   "id": "35976fb9-7934-4ab0-a1ad-b70d6c0eff65",
   "metadata": {},
   "outputs": [],
   "source": [
    "# Defining Data\n",
    "patient1 = Patients(\"John Doe\", 45, \"Male\", (140, 85,), 36.8)\n",
    "patient2 = Patients(\"James Smith\", 32, \"Female\", (130, 88), 37.6)"
   ]
  },
  {
   "cell_type": "code",
   "execution_count": 23,
   "id": "75f06fad-3f79-415d-b78b-c20285e04051",
   "metadata": {},
   "outputs": [
    {
     "name": "stdout",
     "output_type": "stream",
     "text": [
      "Name: John Doe\n",
      "Age: 45\n",
      "Gender: Male\n",
      "Blood Pressure: 140 / 85\n",
      "Temperature: 36.8\n"
     ]
    }
   ],
   "source": [
    "#Display Patient info\n",
    "patient1.display_patient_info()"
   ]
  },
  {
   "cell_type": "code",
   "execution_count": 24,
   "id": "c8ca187e-3b28-4323-8ad3-b6da7c68cf90",
   "metadata": {},
   "outputs": [
    {
     "data": {
      "text/plain": [
       "False"
      ]
     },
     "execution_count": 24,
     "metadata": {},
     "output_type": "execute_result"
    }
   ],
   "source": [
    "# Checking for hypertension\n",
    "patient1.is_hypertensive()"
   ]
  },
  {
   "cell_type": "code",
   "execution_count": 26,
   "id": "db8e65b4-6b56-4372-8a0a-4d41c3cb2593",
   "metadata": {},
   "outputs": [
    {
     "data": {
      "text/plain": [
       "False"
      ]
     },
     "execution_count": 26,
     "metadata": {},
     "output_type": "execute_result"
    }
   ],
   "source": [
    "patient2.is_hypertensive()"
   ]
  },
  {
   "cell_type": "code",
   "execution_count": 25,
   "id": "d2466f1c-3fba-4df0-b007-dbe31d602808",
   "metadata": {},
   "outputs": [
    {
     "data": {
      "text/plain": [
       "True"
      ]
     },
     "execution_count": 25,
     "metadata": {},
     "output_type": "execute_result"
    }
   ],
   "source": [
    "# Checking for fever\n",
    "patient1.is_feverish()"
   ]
  },
  {
   "cell_type": "code",
   "execution_count": 27,
   "id": "28255eb1-230c-4f53-b97f-4f55bac9fea2",
   "metadata": {},
   "outputs": [
    {
     "data": {
      "text/plain": [
       "True"
      ]
     },
     "execution_count": 27,
     "metadata": {},
     "output_type": "execute_result"
    }
   ],
   "source": [
    "patient2.is_feverish()"
   ]
  },
  {
   "cell_type": "code",
   "execution_count": null,
   "id": "3da298c5-0c89-45a0-8707-239c59568120",
   "metadata": {},
   "outputs": [],
   "source": []
  }
 ],
 "metadata": {
  "kernelspec": {
   "display_name": "Python 3 (ipykernel)",
   "language": "python",
   "name": "python3"
  },
  "language_info": {
   "codemirror_mode": {
    "name": "ipython",
    "version": 3
   },
   "file_extension": ".py",
   "mimetype": "text/x-python",
   "name": "python",
   "nbconvert_exporter": "python",
   "pygments_lexer": "ipython3",
   "version": "3.11.5"
  }
 },
 "nbformat": 4,
 "nbformat_minor": 5
}
