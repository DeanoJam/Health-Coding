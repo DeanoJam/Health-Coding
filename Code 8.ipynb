{
 "cells": [
  {
   "cell_type": "code",
   "execution_count": 1,
   "id": "d3bc5458-0535-4331-b779-b71ae8b67ece",
   "metadata": {},
   "outputs": [],
   "source": [
    "# Code 8 Assignment\n",
    "\n",
    "data_list = [('apple', 5), ('banana', 2), ('orange', 8), ('grapes', 3), ('pineapple', 1)]\n",
    "\n",
    "def convert_to_dictionary(data_list):\n",
    "    result_dict = {}\n",
    "    for item in data_list:\n",
    "        key, value = item\n",
    "        result_dict[key] = value\n",
    "    return result_dict"
   ]
  },
  {
   "cell_type": "code",
   "execution_count": 2,
   "id": "80d7850a-8b1d-47a3-8228-a0503a01740c",
   "metadata": {},
   "outputs": [
    {
     "name": "stdout",
     "output_type": "stream",
     "text": [
      "Original Data Type:  [('apple', 5), ('banana', 2), ('orange', 8), ('grapes', 3), ('pineapple', 1)]\n",
      "Converted Data Type:  {'apple': 5, 'banana': 2, 'orange': 8, 'grapes': 3, 'pineapple': 1}\n"
     ]
    }
   ],
   "source": [
    "# Using function for conversion\n",
    "convert_dict = convert_to_dictionary(data_list)\n",
    "\n",
    "print(\"Original Data Type: \", data_list)\n",
    "print(\"Converted Data Type: \", convert_dict)"
   ]
  }
 ],
 "metadata": {
  "kernelspec": {
   "display_name": "Python 3 (ipykernel)",
   "language": "python",
   "name": "python3"
  },
  "language_info": {
   "codemirror_mode": {
    "name": "ipython",
    "version": 3
   },
   "file_extension": ".py",
   "mimetype": "text/x-python",
   "name": "python",
   "nbconvert_exporter": "python",
   "pygments_lexer": "ipython3",
   "version": "3.11.5"
  }
 },
 "nbformat": 4,
 "nbformat_minor": 5
}
