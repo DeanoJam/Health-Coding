{
 "cells": [
  {
   "cell_type": "code",
   "execution_count": 6,
   "id": "1390bfb0-91e1-4fc5-b1cd-552b961fa4cf",
   "metadata": {},
   "outputs": [
    {
     "name": "stdin",
     "output_type": "stream",
     "text": [
      "Enter the patient's temperature (in degrees Fahrenheit):  xyz\n"
     ]
    }
   ],
   "source": [
    "# input temperature\n",
    "temperature = input(\"Enter the patient's temperature (in degrees Fahrenheit): \")"
   ]
  },
  {
   "cell_type": "code",
   "execution_count": 7,
   "id": "24e4f15e-3f7e-4089-a669-da67d3a4d602",
   "metadata": {},
   "outputs": [
    {
     "name": "stdout",
     "output_type": "stream",
     "text": [
      "Error: Please enter a valid temperature (numeric value).\n"
     ]
    }
   ],
   "source": [
    "#check temperature\n",
    "if temperature.replace(\".\", \"\", 1).isdigit():\n",
    "    temperature_input = float(temperature)\n",
    "\n",
    "    if temperature_input >= 99.5:\n",
    "        print(\"The patient has a high temperature.\")\n",
    "    else:\n",
    "        print(\"The patient has a normal temperature.\")\n",
    "else:\n",
    "    print(\"Error: Please enter a valid temperature (numeric value).\")"
   ]
  }
 ],
 "metadata": {
  "kernelspec": {
   "display_name": "Python 3 (ipykernel)",
   "language": "python",
   "name": "python3"
  },
  "language_info": {
   "codemirror_mode": {
    "name": "ipython",
    "version": 3
   },
   "file_extension": ".py",
   "mimetype": "text/x-python",
   "name": "python",
   "nbconvert_exporter": "python",
   "pygments_lexer": "ipython3",
   "version": "3.11.5"
  }
 },
 "nbformat": 4,
 "nbformat_minor": 5
}
